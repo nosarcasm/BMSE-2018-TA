{
 "cells": [
  {
   "cell_type": "markdown",
   "metadata": {},
   "source": [
    "# Tutorial 0. Readme\n",
    "\n",
    "This is a quick README."
   ]
  },
  {
   "cell_type": "markdown",
   "metadata": {},
   "source": [
    "## What is Python?\n",
    "\n",
    "Python is an interpreted, dynamic, object-oriented programming language that is very powerful. \n",
    "\n",
    "* It is *interpreted*, as the code that you write is read on the spot by a Python interpreter and runs line by line through your code. Other languages may be *compiled* (e.g. C, Cpp), which means that your code first has to be translated into a version that your (and usually only your) particular computer can understand. This makes it **powerful** as you can run the same Python program on many different computers (for instance, your computer and the Minerva cluster) as long as the Python interpreter is installed without having to re-compile and install it."
   ]
  },
  {
   "cell_type": "code",
   "execution_count": 7,
   "metadata": {},
   "outputs": [
    {
     "name": "stdout",
     "output_type": "stream",
     "text": [
      "This code just works everywhere!\n"
     ]
    }
   ],
   "source": [
    "def hello_world(): #a function\n",
    "    print(\"This code just works everywhere!\") #print the output to the screen\n",
    "    \n",
    "hello_world() #run"
   ]
  },
  {
   "cell_type": "markdown",
   "metadata": {},
   "source": [
    "* It is *dynamic*, as you will see like other languages such as R, variables can be assigned to hold integers, decimals, bits of text, really *anything*, and then re-assigned later."
   ]
  },
  {
   "cell_type": "code",
   "execution_count": 8,
   "metadata": {},
   "outputs": [
    {
     "name": "stdout",
     "output_type": "stream",
     "text": [
      "Hello there\n"
     ]
    }
   ],
   "source": [
    "var1 = 42 #an integer\n",
    "var2 = \"Hello there\" #a string\n",
    "var1 = var2 #un-oh, are you sure?\n",
    "print(var1)"
   ]
  },
  {
   "cell_type": "markdown",
   "metadata": {},
   "source": [
    "* It is object-oriented, which means that variables (and other objects) can be made up of other variables or objects. This is similar to other programs you use a lot in real life - think of a Facebook profile: someone's feed might have lots of posts ( **`profiles[\"me\"].posts`** ) and maybe one post has lots of comments (**`profiles[\"me\"].posts[1].comments`**). Maybe you want to see the profile of the top commenter? (**`profiles[\"me\"].posts[1].comments[1].commenter.profile`**)"
   ]
  },
  {
   "cell_type": "markdown",
   "metadata": {},
   "source": [
    "## Where are we right now?\n",
    "\n",
    "We're inside an IDE (integrated development environment) for Python, which means that we're using a tool that helps us write code (and comments, as we see here). The one we are using right now is called the [Jupyter notebook](http://jupyter.org/) which is a Python IDE which you start from a Terminal window (or from the Jupyter shortcut on windows) and is displayed in the web browser. In the past, the **Jupyter** notebook was called the **IPython** notebook, and you may see some older versions of tutorials that use them interchangably.\n",
    "\n",
    "* This is helpful as we can seperate where we write the code and where the code is run, for instance, in case you want to run code on a more powerful computer somewhere else (like the Minerva cluster). Jupyter notebooks are configured to run Python by default, but you can also use them to write and run R code.\n",
    "\n",
    "Jupyter helps us write better, more efficient code by giving us code suggestions (hit `Tab` when you are inside a `function` parentheses `()`, for example, and allows us to document our code with text.\n",
    "\n",
    "Jupyter notebooks, like this one, allow us to write `blocks` of code that are executed when you hit `Ctrl-Enter`, and the output appears right under the code block. You can switch between whether you are writing code or markdown text in a particular block in the dropdown menu above.\n",
    "* This output can then be saved for later reference, helpful when you are in a lab and you need to document your code and results. \n",
    "\n",
    "Jupyter notebooks auto-save or with `Ctrl-S`. \n",
    "* However, as I will show you, you'll also want to back up these files using a tool to keep many versions of your files, such as `git`."
   ]
  },
  {
   "cell_type": "code",
   "execution_count": 9,
   "metadata": {},
   "outputs": [
    {
     "name": "stdout",
     "output_type": "stream",
     "text": [
      "this is a code block\n"
     ]
    }
   ],
   "source": [
    "print(\"this is a code block\")"
   ]
  },
  {
   "cell_type": "markdown",
   "metadata": {},
   "source": [
    "## Installation on your local machine\n",
    "\n",
    "You will need to install [Anaconda Python 3.x](https://www.anaconda.com/download/) from this link on your local computer, which comes pre-installed with Jupyter and hundreds of other Python packages that we will be using in this lab/course. \n",
    "\n",
    "To run the Jupyter notebook, just type in\n",
    "\n",
    "``` jupyter notebook ```\n",
    "\n",
    "in the Terminal window."
   ]
  }
 ],
 "metadata": {
  "kernelspec": {
   "display_name": "Python 3",
   "language": "python",
   "name": "python3"
  },
  "language_info": {
   "codemirror_mode": {
    "name": "ipython",
    "version": 3
   },
   "file_extension": ".py",
   "mimetype": "text/x-python",
   "name": "python",
   "nbconvert_exporter": "python",
   "pygments_lexer": "ipython3",
   "version": "3.6.1"
  }
 },
 "nbformat": 4,
 "nbformat_minor": 2
}
